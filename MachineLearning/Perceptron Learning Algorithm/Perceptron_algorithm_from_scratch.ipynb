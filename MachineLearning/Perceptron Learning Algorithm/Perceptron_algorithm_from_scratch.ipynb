{
 "cells": [
  {
   "attachments": {},
   "cell_type": "markdown",
   "metadata": {},
   "source": [
    "# Perceptron Learning Algorithm\n",
    "![](2023-01-01-23-51-18.png)\n",
    "![](2023-01-01-23-52-10.png)\n",
    "![](2023-01-01-23-54-16.png)\n",
    "![](2023-01-01-23-54-44.png)\n",
    "![](2023-01-01-23-55-26.png)"
   ]
  },
  {
   "attachments": {},
   "cell_type": "markdown",
   "metadata": {},
   "source": [
    "PLA algorithm\n",
    "\n",
    "$\\text{ - step 1: Randomly choose a coefficient vector } \\bold{w} \\text{ with elements close to 0}$\n",
    "\n",
    "$\\text{ - step 2: Randomly traverse each data point } {\\bold{x}}_{i}:$\n",
    "\n",
    "$\\quad \\bullet \\text{ If } {\\bold{x}}_{i} \\text{ is correctly classifed or } sgn(\\bold{w}^{T} {\\bold{x}}_{i})$\n",
    "\n",
    "$\\quad \\bullet \\text{ If } {\\bold{x}}_{i} \\text{ is misclassifed, update } \\bold{w}:$\n",
    "\n",
    "$$w = w + {y}_{i} {x}_{i}$$\n",
    "\n",
    "$\\text{ - step 3: Check how many points are misclassified.}$\n",
    "\n",
    "$\\quad \\quad \\quad \\quad \\text{If there are no points left, stop the algorithm.}$\n",
    "\n",
    "$\\quad \\quad \\quad \\quad \\text{If yes, go back to step 2.}$"
   ]
  },
  {
   "cell_type": "code",
   "execution_count": 25,
   "metadata": {},
   "outputs": [],
   "source": [
    "import numpy as np \n",
    "import matplotlib.pyplot as plt\n",
    "from scipy.spatial.distance import cdist\n",
    "import matplotlib.animation as animation\n",
    "from matplotlib.animation import FuncAnimation \n",
    "np.random.seed(2)"
   ]
  },
  {
   "cell_type": "code",
   "execution_count": 17,
   "metadata": {},
   "outputs": [
    {
     "data": {
      "image/png": "[encoded data removed]",
      "text/plain": [
       "<Figure size 432x288 with 1 Axes>"
      ]
     },
     "metadata": {
      "needs_background": "light"
     },
     "output_type": "display_data"
    }
   ],
   "source": [
    "# create data and labels\n",
    "means = [[2, 2], [4, 2]]\n",
    "cov = [[.3, .2], [.2, .3]]\n",
    "N = 10\n",
    "X0 = np.random.multivariate_normal(means[0], cov, N).T\n",
    "X1 = np.random.multivariate_normal(means[1], cov, N).T\n",
    "\n",
    "X = np.concatenate((X0, X1), axis = 1)\n",
    "y = np.concatenate((np.ones((1, N)), -1*np.ones((1, N))), axis = 1)\n",
    "\n",
    "# visualize data\n",
    "color_list = ['red' if i == 1 else 'blue' for i in y[0]]\n",
    "plt.scatter(X[0], X[1], c=color_list)\n",
    "plt.show()"
   ]
  },
  {
   "cell_type": "code",
   "execution_count": 18,
   "metadata": {},
   "outputs": [
    {
     "data": {
      "text/plain": [
       "array([[1.        , 1.        , 1.        , 1.        , 1.        ,\n",
       "        1.        , 1.        , 1.        , 1.        , 1.        ,\n",
       "        1.        , 1.        , 1.        , 1.        , 1.        ,\n",
       "        1.        , 1.        , 1.        , 1.        , 1.        ],\n",
       "       [2.09600378, 2.0165464 , 2.05636372, 2.56428901, 1.69909666,\n",
       "        1.38743695, 1.89780236, 1.47914945, 1.85077455, 2.5949088 ,\n",
       "        3.67859943, 4.83356383, 3.84571574, 4.23073057, 4.10111622,\n",
       "        3.40049512, 3.86139612, 4.24389182, 4.75661214, 3.05382082],\n",
       "       [2.78712178, 1.83761353, 1.12843023, 2.27014838, 1.480339  ,\n",
       "        1.18759602, 1.58108821, 1.36531996, 1.63030052, 2.49163935,\n",
       "        1.22339053, 2.69582753, 1.3735299 , 2.31315281, 2.22955963,\n",
       "        1.40997674, 2.20401356, 1.81774326, 2.25785093, 1.0335785 ]])"
      ]
     },
     "execution_count": 18,
     "metadata": {},
     "output_type": "execute_result"
    }
   ],
   "source": [
    "X = np.concatenate((np.ones((1, 2*N)), X), axis = 0)\n",
    "X"
   ]
  },
  {
   "cell_type": "code",
   "execution_count": 19,
   "metadata": {},
   "outputs": [],
   "source": [
    "def h(w, x):    \n",
    "    return np.sign(np.dot(w.T, x))"
   ]
  },
  {
   "cell_type": "code",
   "execution_count": 20,
   "metadata": {},
   "outputs": [],
   "source": [
    "def has_converged(X, y, w):    \n",
    "    return np.array_equal(h(w, X), y) "
   ]
  },
  {
   "cell_type": "code",
   "execution_count": 21,
   "metadata": {},
   "outputs": [],
   "source": [
    "def perceptron(X, y, w_init):\n",
    "    \"\"\"caculate the weight for the boundary\n",
    "\n",
    "    Args:\n",
    "        X (list (m,n + 1)): coordinates of points\n",
    "        y (list (m,1)): labels\n",
    "        w_init (list (1,n + 1)): initial weight\n",
    "\n",
    "    Returns:\n",
    "        _type_: _description_\n",
    "    \"\"\"\n",
    "    w = [w_init]\n",
    "    N = X.shape[1]\n",
    "    d = X.shape[0]\n",
    "    mis_points = []\n",
    "    while True:\n",
    "        # mix data \n",
    "        mix_id = np.random.permutation(N)\n",
    "        for i in range(N):\n",
    "            xi = X[:, mix_id[i]].reshape(d, 1)\n",
    "            yi = y[0, mix_id[i]]\n",
    "            if h(w[-1], xi)[0] != yi: # misclassified point\n",
    "                mis_points.append(mix_id[i])\n",
    "                w_new = w[-1] + yi*xi \n",
    "                w.append(w_new)\n",
    "                \n",
    "        if has_converged(X, y, w[-1]):\n",
    "            break\n",
    "    return (w, mis_points)\n"
   ]
  },
  {
   "cell_type": "code",
   "execution_count": 23,
   "metadata": {},
   "outputs": [
    {
     "name": "stdout",
     "output_type": "stream",
     "text": [
      "[array([[ 0.62877581],\n",
      "       [ 0.06487867],\n",
      "       [-0.40969545]]), array([[-0.37122419],\n",
      "       [-4.69173347],\n",
      "       [-2.66754638]]), array([[ 0.62877581],\n",
      "       [-2.09682467],\n",
      "       [-0.17590702]]), array([[ 1.62877581],\n",
      "       [-0.04046094],\n",
      "       [ 0.95252321]]), array([[ 0.62877581],\n",
      "       [-4.87402477],\n",
      "       [-1.74330432]]), array([[ 1.62877581],\n",
      "       [-2.30973576],\n",
      "       [ 0.52684406]]), array([[ 2.62877581],\n",
      "       [-0.92229882],\n",
      "       [ 1.71444008]]), array([[ 1.62877581],\n",
      "       [-4.76801456],\n",
      "       [ 0.34091018]]), array([[ 2.62877581],\n",
      "       [-2.91724001],\n",
      "       [ 1.9712107 ]]), array([[ 3.62877581],\n",
      "       [-0.32233121],\n",
      "       [ 4.46285006]]), array([[ 2.62877581],\n",
      "       [-4.00093064],\n",
      "       [ 3.23945953]]), array([[ 3.62877581],\n",
      "       [-1.94456692],\n",
      "       [ 4.36788976]]), array([[ 2.62877581],\n",
      "       [-6.77813074],\n",
      "       [ 1.67206224]]), array([[ 3.62877581],\n",
      "       [-4.21384173],\n",
      "       [ 3.94221062]]), array([[ 4.62877581],\n",
      "       [-2.15747801],\n",
      "       [ 5.07064085]]), array([[ 3.62877581],\n",
      "       [-6.91409014],\n",
      "       [ 2.81278992]]), array([[ 4.62877581],\n",
      "       [-5.5266532 ],\n",
      "       [ 4.00038594]]), array([[ 5.62877581],\n",
      "       [-2.96236419],\n",
      "       [ 6.27053432]]), array([[ 4.62877581],\n",
      "       [-6.8237603 ],\n",
      "       [ 4.06652076]]), array([[ 5.62877581],\n",
      "       [-4.25947129],\n",
      "       [ 6.33666914]]), array([[ 4.62877581],\n",
      "       [-8.12086741],\n",
      "       [ 4.13265557]]), array([[ 5.62877581],\n",
      "       [-6.06450368],\n",
      "       [ 5.26108581]]), array([[ 6.62877581],\n",
      "       [-4.00813996],\n",
      "       [ 6.38951604]]), array([[ 5.62877581],\n",
      "       [-8.23887053],\n",
      "       [ 4.07636323]]), array([[ 6.62877581],\n",
      "       [-6.53977386],\n",
      "       [ 5.55670223]]), array([[ 7.62877581],\n",
      "       [-4.48341014],\n",
      "       [ 6.68513246]]), array([[ 6.62877581],\n",
      "       [-8.58452635],\n",
      "       [ 4.45557284]]), array([[ 7.62877581],\n",
      "       [-6.68672399],\n",
      "       [ 6.03666104]])]\n",
      "[18, 9, 2, 11, 3, 5, 12, 8, 9, 10, 2, 11, 3, 2, 18, 5, 3, 16, 3, 16, 2, 2, 13, 4, 2, 14, 6]\n"
     ]
    }
   ],
   "source": [
    "d = X.shape[0]\n",
    "w_init = np.random.randn(d, 1)\n",
    "perceptron(X, y, w_init)\n",
    "# (w, m) = perceptron(X, y, w_init)\n",
    "# print(w)\n",
    "# print(m)"
   ]
  },
  {
   "cell_type": "code",
   "execution_count": 24,
   "metadata": {},
   "outputs": [],
   "source": [
    "def draw_line(w):\n",
    "    w0, w1, w2 = w[0], w[1], w[2]\n",
    "    if w2 != 0:\n",
    "        x11, x12 = -100, 100\n",
    "        return plt.plot([x11, x12], [-(w1*x11 + w0)/w2, -(w1*x12 + w0)/w2], 'k')\n",
    "    else:\n",
    "        x10 = -w0/w1\n",
    "        return plt.plot([x10, x10], [-100, 100], 'k')"
   ]
  },
  {
   "cell_type": "code",
   "execution_count": 26,
   "metadata": {},
   "outputs": [],
   "source": [
    "def viz_alg_1d_2(w):\n",
    "    it = len(w)    \n",
    "    fig, ax = plt.subplots(figsize=(5, 5))  \n",
    "    \n",
    "    def update(i):\n",
    "        ani = plt.cla()\n",
    "        #points\n",
    "        ani = plt.plot(X0[0, :], X0[1, :], 'b^', markersize = 8, alpha = .8)\n",
    "        ani = plt.plot(X1[0, :], X1[1, :], 'ro', markersize = 8, alpha = .8)\n",
    "        ani = plt.axis([0 , 6, -2, 4])\n",
    "        i2 =  i if i < it else it-1\n",
    "        ani = draw_line(w[i2])\n",
    "        if i < it-1:\n",
    "            # draw one  misclassified point\n",
    "            circle = plt.Circle((X[1, m[i]], X[2, m[i]]), 0.15, color='k', fill = False)\n",
    "            ax.add_artist(circle)\n",
    "        # hide axis \n",
    "        cur_axes = plt.gca()\n",
    "        cur_axes.axes.get_xaxis().set_ticks([])\n",
    "        cur_axes.axes.get_yaxis().set_ticks([])\n",
    "\n",
    "        label = 'PLA: iter %d/%d' %(i2, it-1)\n",
    "        ax.set_xlabel(label)\n",
    "        return ani, ax \n",
    "        \n",
    "    anim = FuncAnimation(fig, update, frames=np.arange(0, it + 2), interval=1000)\n",
    "    # save \n",
    "    anim.save('pla_vis.gif', dpi = 100, writer = 'imagemagick')\n",
    "    plt.show()"
   ]
  },
  {
   "cell_type": "code",
   "execution_count": 29,
   "metadata": {},
   "outputs": [
    {
     "name": "stderr",
     "output_type": "stream",
     "text": [
      "MovieWriter imagemagick unavailable; using Pillow instead.\n"
     ]
    },
    {
     "data": {
      "image/png": "[encoded data removed]",
      "text/plain": [
       "<Figure size 360x360 with 1 Axes>"
      ]
     },
     "metadata": {},
     "output_type": "display_data"
    }
   ],
   "source": [
    "viz_alg_1d_2(w)"
   ]
  },
  {
   "cell_type": "code",
   "execution_count": null,
   "metadata": {},
   "outputs": [],
   "source": []
  }
 ],
 "metadata": {
  "kernelspec": {
   "display_name": "base",
   "language": "python",
   "name": "python3"
  },
  "language_info": {
   "codemirror_mode": {
    "name": "ipython",
    "version": 3
   },
   "file_extension": ".py",
   "mimetype": "text/x-python",
   "name": "python",
   "nbconvert_exporter": "python",
   "pygments_lexer": "ipython3",
   "version": "3.9.12 (main, Apr  5 2022, 01:53:17) \n[Clang 12.0.0 ]"
  },
  "orig_nbformat": 4,
  "vscode": {
   "interpreter": {
    "hash": "365569053cc60402bfaec59c1bbbc5b0a6c079a6f3154e49d47deab19f9f4c01"
   }
  }
 },
 "nbformat": 4,
 "nbformat_minor": 2
}
