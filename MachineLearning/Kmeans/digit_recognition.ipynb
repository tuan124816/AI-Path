{
 "cells": [
  {
   "cell_type": "code",
   "execution_count": 11,
   "metadata": {},
   "outputs": [],
   "source": [
    "import numpy as np \n",
    "from mnist import MNIST\n",
    "import matplotlib.pyplot as plt\n",
    "import scipy.misc\n",
    "from sklearn.cluster import KMeans\n",
    "from sklearn.neighbors import NearestNeighbors\n",
    "from sklearn.preprocessing import normalize\n",
    "import imageio"
   ]
  },
  {
   "cell_type": "code",
   "execution_count": 4,
   "metadata": {},
   "outputs": [],
   "source": [
    "# This function visualizes filters in matrix A. Each column of A is a\n",
    "# filter. We will reshape each column into a square image and visualizes\n",
    "# on each cell of the visualization panel.\n",
    "# All other parameters are optional, usually you do not need to worry\n",
    "# about it.\n",
    "# opt_normalize: whether we need to normalize the filter so that all of\n",
    "# them can have similar contrast. Default value is true.\n",
    "# opt_graycolor: whether we use gray as the heat map. Default is true.\n",
    "# opt_colmajor: you can switch convention to row major for A. In that\n",
    "# case, each row of A is a filter. Default value is false.\n",
    "# source: https://github.com/tsaith/ufldl_tutorial\n",
    "def display_network(A, m = -1, n = -1):\n",
    "    opt_normalize = True\n",
    "    opt_graycolor = True\n",
    "\n",
    "    # Rescale\n",
    "    A = A - np.average(A)\n",
    "\n",
    "    # Compute rows & cols\n",
    "    (row, col) = A.shape\n",
    "    sz = int(np.ceil(np.sqrt(row)))\n",
    "    buf = 1\n",
    "    if m < 0 or n < 0:\n",
    "        n = np.ceil(np.sqrt(col))\n",
    "        m = np.ceil(col / n)\n",
    "        \n",
    "\n",
    "    image = np.ones(shape=(buf + m * (sz + buf), buf + n * (sz + buf)))\n",
    "\n",
    "    if not opt_graycolor:\n",
    "        image *= 0.1\n",
    "\n",
    "    k = 0\n",
    "\n",
    "    for i in range(int(m)):\n",
    "        for j in range(int(n)):\n",
    "            if k >= col:\n",
    "                continue\n",
    "\n",
    "            clim = np.max(np.abs(A[:, k]))\n",
    "\n",
    "            if opt_normalize:\n",
    "                image[buf + i * (sz + buf):buf + i * (sz + buf) + sz, buf + j * (sz + buf):buf + j * (sz + buf) + sz] = \\\n",
    "                    A[:, k].reshape(sz, sz) / clim\n",
    "            else:\n",
    "                image[buf + i * (sz + buf):buf + i * (sz + buf) + sz, buf + j * (sz + buf):buf + j * (sz + buf) + sz] = \\\n",
    "                    A[:, k].reshape(sz, sz) / np.max(np.abs(A))\n",
    "            k += 1\n",
    "\n",
    "    return image"
   ]
  },
  {
   "cell_type": "code",
   "execution_count": 3,
   "metadata": {},
   "outputs": [],
   "source": [
    "def display_color_network(A):\n",
    "    \"\"\"\n",
    "    # display receptive field(s) or basis vector(s) for image patches\n",
    "    #\n",
    "    # A         the basis, with patches as column vectors\n",
    "    # In case the midpoint is not set at 0, we shift it dynamically\n",
    "    :param A:\n",
    "    :param file:\n",
    "    :return:\n",
    "    \"\"\"\n",
    "    if np.min(A) >= 0:\n",
    "        A = A - np.mean(A)\n",
    "\n",
    "    cols = np.round(np.sqrt(A.shape[1]))\n",
    "\n",
    "    channel_size = A.shape[0] / 3\n",
    "    dim = np.sqrt(channel_size)\n",
    "    dimp = dim + 1\n",
    "    rows = np.ceil(A.shape[1] / cols)\n",
    "\n",
    "    B = A[0:channel_size, :]\n",
    "    C = A[channel_size:2 * channel_size, :]\n",
    "    D = A[2 * channel_size:3 * channel_size, :]\n",
    "\n",
    "    B = B / np.max(np.abs(B))\n",
    "    C = C / np.max(np.abs(C))\n",
    "    D = D / np.max(np.abs(D))\n",
    "\n",
    "    # Initialization of the image\n",
    "    image = np.ones(shape=(dim * rows + rows - 1, dim * cols + cols - 1, 3))\n",
    "\n",
    "    for i in range(int(rows)):\n",
    "        for j in range(int(cols)):\n",
    "            # This sets the patch\n",
    "            image[i * dimp:i * dimp + dim, j * dimp:j * dimp + dim, 0] = B[:, i * cols + j].reshape(dim, dim)\n",
    "            image[i * dimp:i * dimp + dim, j * dimp:j * dimp + dim, 1] = C[:, i * cols + j].reshape(dim, dim)\n",
    "            image[i * dimp:i * dimp + dim, j * dimp:j * dimp + dim, 2] = D[:, i * cols + j].reshape(dim, dim)\n",
    "\n",
    "    image = (image + 1) / 2\n",
    "\n",
    "    #PIL.Image.fromarray(np.uint8(image * 255), 'RGB').save(filename)\n",
    "\n",
    "    return image"
   ]
  },
  {
   "cell_type": "code",
   "execution_count": 7,
   "metadata": {},
   "outputs": [],
   "source": [
    "mndata = MNIST('/Users/huytuannguyen/Desktop/FPT/My self/MachineLearning/Kmeans/MNIST/')\n",
    "mndata.load_testing()\n",
    "X = mndata.test_images\n",
    "X0 = np.asarray(X)[:1000,:]/256.0\n",
    "X = X0\n",
    "\n",
    "K = 10\n",
    "kmeans = KMeans(n_clusters=K).fit(X)\n",
    "\n",
    "pred_label = kmeans.predict(X)"
   ]
  },
  {
   "cell_type": "code",
   "execution_count": 12,
   "metadata": {},
   "outputs": [
    {
     "name": "stdout",
     "output_type": "stream",
     "text": [
      "<class 'numpy.ndarray'>\n",
      "(784, 10)\n"
     ]
    },
    {
     "data": {
      "image/png": "[encoded data removed]",
      "text/plain": [
       "<Figure size 432x288 with 1 Axes>"
      ]
     },
     "metadata": {
      "needs_background": "light"
     },
     "output_type": "display_data"
    },
    {
     "name": "stderr",
     "output_type": "stream",
     "text": [
      "Lossy conversion from float64 to uint8. Range [0, 1]. Convert image to uint8 prior to saving to suppress this warning.\n"
     ]
    }
   ],
   "source": [
    "print(type(kmeans.cluster_centers_.T))\n",
    "print(kmeans.cluster_centers_.T.shape)\n",
    "A = display_network(kmeans.cluster_centers_.T, K, 1)\n",
    "\n",
    "f1 = plt.imshow(A, interpolation='nearest', cmap = \"jet\")\n",
    "f1.axes.get_xaxis().set_visible(False)\n",
    "f1.axes.get_yaxis().set_visible(False)\n",
    "plt.show()\n",
    "# plt.savefig('a1.png', bbox_inches='tight')\n",
    "\n",
    "\n",
    "# a colormap and a normalization instance\n",
    "cmap = plt.cm.jet\n",
    "norm = plt.Normalize(vmin=A.min(), vmax=A.max())\n",
    "\n",
    "# map the normalized data to colors\n",
    "# image is now RGBA (512x512x4) \n",
    "image = cmap(norm(A))\n",
    "\n",
    "# scipy.misc.imsave('aa.png', image)\n",
    "imageio.imsave('aa.png', image)"
   ]
  },
  {
   "cell_type": "code",
   "execution_count": 13,
   "metadata": {},
   "outputs": [
    {
     "name": "stdout",
     "output_type": "stream",
     "text": [
      "<class 'numpy.ndarray'>\n",
      "(1000,)\n",
      "<class 'numpy.ndarray'>\n"
     ]
    }
   ],
   "source": [
    "print(type(pred_label))\n",
    "print(pred_label.shape)\n",
    "print(type(X0))"
   ]
  },
  {
   "cell_type": "code",
   "execution_count": 15,
   "metadata": {},
   "outputs": [],
   "source": [
    "N0 = 20;\n",
    "X1 = np.zeros((N0*K, 784))\n",
    "X2 = np.zeros((N0*K, 784))\n",
    "\n",
    "for k in range(K):\n",
    "    Xk = X0[pred_label == k, :]\n",
    "\n",
    "    center_k = [kmeans.cluster_centers_[k]]\n",
    "    neigh = NearestNeighbors().fit(Xk)\n",
    "    dist, nearest_id  = neigh.kneighbors(center_k, N0)\n",
    "    \n",
    "    X1[N0*k: N0*k + N0,:] = Xk[nearest_id, :]\n",
    "    X2[N0*k: N0*k + N0,:] = Xk[:N0, :]"
   ]
  },
  {
   "cell_type": "code",
   "execution_count": 16,
   "metadata": {},
   "outputs": [
    {
     "data": {
      "image/png": "[encoded data removed]",
      "text/plain": [
       "<Figure size 432x288 with 1 Axes>"
      ]
     },
     "metadata": {
      "needs_background": "light"
     },
     "output_type": "display_data"
    }
   ],
   "source": [
    "plt.axis('off')\n",
    "A = display_network(X2.T, K, N0)\n",
    "f2 = plt.imshow(A, interpolation='nearest' )\n",
    "plt.gray()\n",
    "plt.show()"
   ]
  },
  {
   "cell_type": "code",
   "execution_count": null,
   "metadata": {},
   "outputs": [],
   "source": []
  }
 ],
 "metadata": {
  "kernelspec": {
   "display_name": "base",
   "language": "python",
   "name": "python3"
  },
  "language_info": {
   "codemirror_mode": {
    "name": "ipython",
    "version": 3
   },
   "file_extension": ".py",
   "mimetype": "text/x-python",
   "name": "python",
   "nbconvert_exporter": "python",
   "pygments_lexer": "ipython3",
   "version": "3.9.12 (main, Apr  5 2022, 01:53:17) \n[Clang 12.0.0 ]"
  },
  "orig_nbformat": 4,
  "vscode": {
   "interpreter": {
    "hash": "365569053cc60402bfaec59c1bbbc5b0a6c079a6f3154e49d47deab19f9f4c01"
   }
  }
 },
 "nbformat": 4,
 "nbformat_minor": 2
}
