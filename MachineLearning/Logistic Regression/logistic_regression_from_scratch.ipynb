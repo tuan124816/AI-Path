{
 "cells": [
  {
   "attachments": {},
   "cell_type": "markdown",
   "metadata": {},
   "source": [
    "# Logistic regression\n",
    "\n",
    "$\\text{Output of the logistic regression can be denoted as follow: }$\n",
    "\n",
    "$$f(x) = \\theta(\\bold{w}^{T} x)$$\n",
    "\n",
    "$\\quad \\theta \\text{ is known as logistic function. Some activations for the linear model are shown in the figure below:}$\n",
    "\n",
    "![](activations.png)\n",
    "\n",
    "$\\text{ - Sigmoid function: }$\n",
    "\n",
    "$$f(s) = \\frac{1}{1 + e^{-s}} \\triangleq \\sigma(s)$$\n",
    "\n",
    "$$\\lim_{x\\to - \\infty} \\sigma(s) = 0; \\quad \\lim_{x\\to \\infty} \\sigma(s) = 1$$\n",
    "\n",
    "$\\text{ - Derivative Sigmoid function: }$\n",
    "\n",
    "$$\\sigma'(s) = \\frac{e^{-s}}{(1 + e^{-s})^2}$$\n",
    "\n",
    "$$\\quad \\quad \\quad = \\frac{1}{1 + e^{-s} \\frac{e^{-s}}{1 + e^{-s}}}$$\n",
    "\n",
    "$$\\quad \\quad \\quad \\quad = \\sigma(s)(1 - \\sigma(s))$$\n",
    "\n",
    "$\\text{ - loss function for logistic regression is: }\\bold{\\text{Log loss}}$\n",
    "\n",
    "![](logloss.png)\n",
    "\n",
    "$\\quad \\text{or:}$\n",
    "\n",
    "$$J(\\bold{w};{x}_{i};{y}_{i}) = - ({y}_{i} \\log_{} {z}_{i} + (1 - {y}_{i} \\log_{} {(1 - {z}_{i})}))$$\n",
    "\n",
    "$$ {x}_{i}, {y}_{i} \\text{: input and target}$$\n",
    "\n",
    "$$ {z}_{i} \\text{: y\\_pred}$$\n",
    "\n",
    "$\\text{ - derivative of the loss function: }$\n",
    "\n",
    "$$\\frac{∂ J(\\bold{w};{x}_{i};{y}_{i})}{∂\\bold{w}} = - (\\frac{{y}_{i}}{{z}_{i}} - \\frac{1 - {y}_{i}}{1 - {z}_{i}}) \\frac{∂ {z}_{i}}{∂\\bold{w}}$$\n",
    "\n",
    "$$ = \\frac{{z}_{i} - {y}_{i}}{{z}_{i} (1 - {z}_{i})} \\frac{∂ {z}_{i}}{∂\\bold{w}}$$\n",
    "\n",
    "![](cost_derivative.png)"
   ]
  },
  {
   "cell_type": "code",
   "execution_count": 12,
   "metadata": {},
   "outputs": [],
   "source": [
    "import numpy as np\n",
    "import pandas as pd\n",
    "import matplotlib.pyplot as plt\n",
    "import seaborn as sns\n",
    "import copy\n",
    "import math\n",
    "from sklearn.linear_model import LogisticRegression"
   ]
  },
  {
   "cell_type": "code",
   "execution_count": 9,
   "metadata": {},
   "outputs": [],
   "source": [
    "def sigmoid(x):\n",
    "    return 1 / (1 + np.exp(-x))"
   ]
  },
  {
   "cell_type": "code",
   "execution_count": 10,
   "metadata": {},
   "outputs": [],
   "source": [
    "def compute_cost(X, y, w, b, lambda_= 1):\n",
    "    \"\"\"\n",
    "    Computes the cost over all examples\n",
    "    Args:\n",
    "      X : (ndarray Shape (m,n)) data, m examples by n features\n",
    "      y : (array_like Shape (m,)) target value \n",
    "      w : (array_like Shape (n,)) Values of parameters of the model      \n",
    "      b : scalar Values of bias parameter of the model\n",
    "      lambda_: unused placeholder\n",
    "    Returns:\n",
    "      total_cost: (scalar)         cost \n",
    "    \"\"\"\n",
    "\n",
    "    m, n = X.shape\n",
    "    total_cost = 0.0\n",
    "    for i in range(m):\n",
    "        z_i = np.dot(X[i],w) + b\n",
    "        f_wb_i = sigmoid(z_i)\n",
    "        total_cost +=  -y[i]*np.log(f_wb_i) - (1-y[i])*np.log(1-f_wb_i)\n",
    "             \n",
    "    total_cost = total_cost / m\n",
    "    return total_cost\n",
    "    "
   ]
  },
  {
   "attachments": {},
   "cell_type": "markdown",
   "metadata": {},
   "source": [
    "![](logisticGD.png)"
   ]
  },
  {
   "cell_type": "code",
   "execution_count": 7,
   "metadata": {},
   "outputs": [],
   "source": [
    "def compute_gradient(X, y, w, b):\n",
    "    \"\"\"\n",
    "    Computes the gradient for linear regression \n",
    " \n",
    "    Args:\n",
    "      X (ndarray (m,n): Data, m examples with n features\n",
    "      y (ndarray (m,)): target values\n",
    "      w (ndarray (n,)): model parameters  \n",
    "      b (scalar)      : model parameter\n",
    "\n",
    "    Returns\n",
    "      dj_dw (ndarray (n,)): The gradient of the cost w.r.t. the parameters w. \n",
    "      dj_db (scalar)      : The gradient of the cost w.r.t. the parameter b. \n",
    "    \"\"\"\n",
    "    \n",
    "    m,n = X.shape\n",
    "    dj_dw = np.zeros((n,))                           #(n,)\n",
    "    dj_db = 0.\n",
    "\n",
    "    for i in range(m):\n",
    "        f_wb_i = sigmoid(np.dot(X[i],w) + b)          #(n,)(n,)=scalar\n",
    "        err_i  = f_wb_i  - y[i]                       #scalar\n",
    "        dj_db = dj_db + err_i\n",
    "        \n",
    "        for j in range(n):\n",
    "            dj_dw[j] = dj_dw[j] + err_i * X[i,j]      #scalar\n",
    "        \n",
    "    dj_dw = dj_dw/m                                   #(n,)\n",
    "    dj_db = dj_db/m                                   #scalar\n",
    "\n",
    "    # OR THIS:\n",
    "\n",
    "    # for i in range(m):\n",
    "    #     f_wb = sigmoid(np.dot(X[i],w) + b)\n",
    "        \n",
    "    #     dj_db_i = f_wb - y[i]\n",
    "        \n",
    "    #     dj_db += dj_db_i\n",
    "        \n",
    "    #     for j in range(n): \n",
    "    #         dj_dw_ij = (f_wb - y[i])* X[i][j]\n",
    "    #         dj_dw[j] += dj_dw_ij\n",
    "            \n",
    "    # dj_dw = dj_dw / m\n",
    "    # dj_db = dj_db / m\n",
    "        \n",
    "    return dj_db, dj_dw  "
   ]
  },
  {
   "cell_type": "code",
   "execution_count": 11,
   "metadata": {},
   "outputs": [],
   "source": [
    "def gradient_descent(X, y, w_in, b_in, alpha, num_iters): \n",
    "    \"\"\"\n",
    "    Performs batch gradient descent\n",
    "    \n",
    "    Args:\n",
    "      X (ndarray (m,n)   : Data, m examples with n features\n",
    "      y (ndarray (m,))   : target values\n",
    "      w_in (ndarray (n,)): Initial values of model parameters  \n",
    "      b_in (scalar)      : Initial values of model parameter\n",
    "      alpha (float)      : Learning rate\n",
    "      num_iters (scalar) : number of iterations to run gradient descent\n",
    "      \n",
    "    Returns:\n",
    "      w (ndarray (n,))   : Updated values of parameters\n",
    "      b (scalar)         : Updated value of parameter \n",
    "    \"\"\"\n",
    "    # An array to store cost J and w's at each iteration primarily for graphing later\n",
    "    J_history = []\n",
    "    w = copy.deepcopy(w_in)  #avoid modifying global w within function\n",
    "    b = b_in\n",
    "    \n",
    "    for i in range(num_iters):\n",
    "        # Calculate the gradient and update the parameters\n",
    "        dj_db, dj_dw = compute_gradient(X, y, w, b)   \n",
    "\n",
    "        # Update Parameters using w, b, alpha and gradient\n",
    "        w = w - alpha * dj_dw               \n",
    "        b = b - alpha * dj_db               \n",
    "      \n",
    "        # Save cost J at each iteration\n",
    "        if i<100000:      # prevent resource exhaustion \n",
    "            J_history.append( compute_cost(X, y, w, b) )\n",
    "\n",
    "        # Print cost every at intervals 10 times or as many iterations if < 10\n",
    "        if i% math.ceil(num_iters / 10) == 0:\n",
    "            print(f\"Iteration {i:4d}: Cost {J_history[-1]}   \")\n",
    "        \n",
    "    return w, b, J_history         #return final w,b and J history for graphing\n"
   ]
  },
  {
   "cell_type": "code",
   "execution_count": 40,
   "metadata": {},
   "outputs": [],
   "source": [
    "def predict(X, w, b): \n",
    "    \"\"\"\n",
    "    Predict whether the label is 0 or 1 using learned logistic\n",
    "    regression parameters w\n",
    "    \n",
    "    Args:\n",
    "    X : (ndarray Shape (m, n))\n",
    "    w : (array_like Shape (n,))      Parameters of the model\n",
    "    b : (scalar, float)              Parameter of the model\n",
    "\n",
    "    Returns:\n",
    "    p: (ndarray (m,1))\n",
    "        The predictions for X using a threshold at 0.5\n",
    "    \"\"\"\n",
    "    # number of training examples\n",
    "    m, n = X.shape   \n",
    "    p = np.zeros(m)\n",
    "   \n",
    "    # Loop over each example\n",
    "    for i in range(m):   \n",
    "\n",
    "        # Calculate f_wb (exactly how you did it in the compute_cost function above) \n",
    "        # using a couple of lines of code\n",
    "        f_wb = sigmoid(np.dot(X[i],w) + b)\n",
    "\n",
    "        # Calculate the prediction for that training example \n",
    "        if f_wb >= 0.5:\n",
    "            p[i] = 1\n",
    "        else:\n",
    "            p[i] = 0\n",
    "  \n",
    "    return p"
   ]
  },
  {
   "cell_type": "code",
   "execution_count": 37,
   "metadata": {},
   "outputs": [
    {
     "data": {
      "image/png": "[encoded data removed]",
      "text/plain": [
       "<Figure size 360x360 with 1 Axes>"
      ]
     },
     "metadata": {
      "needs_background": "light"
     },
     "output_type": "display_data"
    }
   ],
   "source": [
    "# prepare data\n",
    "x_train = np.array([[0., 1, 2, 3, 4, 5]]).T\n",
    "y_train = np.array([0,  0, 0, 1, 1, 1])\n",
    "# plot data\n",
    "plt.figure(figsize=(5,5))\n",
    "color_list = ['red' if i == 1 else 'blue' for i in y_train]\n",
    "plt.scatter(x_train, y_train, s=[100 for i in range(len(y_train))], c=color_list)\n",
    "plt.show()"
   ]
  },
  {
   "cell_type": "code",
   "execution_count": 38,
   "metadata": {},
   "outputs": [
    {
     "name": "stdout",
     "output_type": "stream",
     "text": [
      "[0.]\n",
      "Iteration    0: Cost 0.6875866309962527   \n",
      "Iteration 1000: Cost 0.3354646281271492   \n",
      "Iteration 2000: Cost 0.24918046111494271   \n",
      "Iteration 3000: Cost 0.20575170436002863   \n",
      "Iteration 4000: Cost 0.17899910413931922   \n",
      "Iteration 5000: Cost 0.16047916009714497   \n",
      "Iteration 6000: Cost 0.1466729892752192   \n",
      "Iteration 7000: Cost 0.1358470911626451   \n",
      "Iteration 8000: Cost 0.12704310299157853   \n",
      "Iteration 9000: Cost 0.11968482924040207   \n"
     ]
    }
   ],
   "source": [
    "w_tmp  = np.zeros_like(x_train[0])\n",
    "b_tmp  = 0.\n",
    "w, b, J_history = gradient_descent(x_train, y_train, w_tmp, b_tmp, 0.01, 10000)"
   ]
  },
  {
   "cell_type": "code",
   "execution_count": 39,
   "metadata": {},
   "outputs": [
    {
     "data": {
      "image/png": "[encoded data removed]",
      "text/plain": [
       "<Figure size 432x288 with 1 Axes>"
      ]
     },
     "metadata": {
      "needs_background": "light"
     },
     "output_type": "display_data"
    }
   ],
   "source": [
    "x = np.linspace(-1, 6, 100)\n",
    "y = sigmoid(w * x + b)\n",
    "plt.plot(x,y)\n",
    "color_list = ['red' if i == 1 else 'blue' for i in y_train]\n",
    "plt.scatter(x_train, y_train, s=[100 for i in range(len(y_train))], c=color_list)\n",
    "plt.show()"
   ]
  },
  {
   "cell_type": "code",
   "execution_count": 41,
   "metadata": {},
   "outputs": [
    {
     "data": {
      "text/plain": [
       "array([0., 1., 1.])"
      ]
     },
     "execution_count": 41,
     "metadata": {},
     "output_type": "execute_result"
    }
   ],
   "source": [
    "x_test = np.array([[0.7, 2.5, 7]]).T\n",
    "y_pred = predict(x_test, w, b)\n",
    "y_pred"
   ]
  },
  {
   "cell_type": "code",
   "execution_count": null,
   "metadata": {},
   "outputs": [],
   "source": []
  }
 ],
 "metadata": {
  "kernelspec": {
   "display_name": "base",
   "language": "python",
   "name": "python3"
  },
  "language_info": {
   "codemirror_mode": {
    "name": "ipython",
    "version": 3
   },
   "file_extension": ".py",
   "mimetype": "text/x-python",
   "name": "python",
   "nbconvert_exporter": "python",
   "pygments_lexer": "ipython3",
   "version": "3.9.12 (main, Apr  5 2022, 01:53:17) \n[Clang 12.0.0 ]"
  },
  "orig_nbformat": 4,
  "vscode": {
   "interpreter": {
    "hash": "365569053cc60402bfaec59c1bbbc5b0a6c079a6f3154e49d47deab19f9f4c01"
   }
  }
 },
 "nbformat": 4,
 "nbformat_minor": 2
}
